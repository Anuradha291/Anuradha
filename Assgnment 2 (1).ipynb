{
 "cells": [
  {
   "cell_type": "markdown",
   "id": "912e2a0f-4091-41d8-8509-69fcb20ab412",
   "metadata": {},
   "source": [
    "**Name:** Wickramage Anuradha Lakmali Wickramage\n",
    "\n",
    "**Assignment2**\n",
    "\n",
    "**Date:** 05/02/2025"
   ]
  },
  {
   "cell_type": "markdown",
   "id": "88d647c9-b1ab-4d28-a5e1-a98ee5590665",
   "metadata": {},
   "source": [
    "**01** Define two variables and assign them values of 100 and 29. After this, make the interpreter sum up the two numbers and multiply their result by 3. Calculate the 2nd  exponent of the previous number and save it to a new variable. Make the program print the result in the following way: \n",
    "           The result of the calculation was:  \n",
    "                        149769"
   ]
  },
  {
   "cell_type": "code",
   "execution_count": 43,
   "id": "53c0afec-f3e2-4773-b3ff-a98f4a275985",
   "metadata": {},
   "outputs": [
    {
     "name": "stdout",
     "output_type": "stream",
     "text": [
      "The result of the calculation was:   \n",
      "\t 149769\n"
     ]
    }
   ],
   "source": [
    "#Define variable \n",
    "number_1 = 100\n",
    "number_2 = 29\n",
    "\n",
    "#Sum of Two numbers multify by 3\n",
    "total = (number_1 + number_2) * 3\n",
    "\n",
    "#2nd exponent of the total and save it to a new variable. \n",
    "final_answer = total ** 2\n",
    "\n",
    "#print output\n",
    "print(\"The result of the calculation was:   \\n\\t\", final_answer)"
   ]
  },
  {
   "cell_type": "markdown",
   "id": "326e5fd8-71cb-4f03-a924-84921df8ac55",
   "metadata": {},
   "source": [
    "**02** Write a program that creates a password by asking the user to input their name, age, year of birth. Save all in separate variables using the righttype for each of them. Program should create the password in following way: takes last two digits of year of birth, first 3 letters from name, and the 2nd power of the age \n"
   ]
  },
  {
   "cell_type": "code",
   "execution_count": 41,
   "id": "506b741f-ebae-423c-ba72-5202134e988d",
   "metadata": {},
   "outputs": [
    {
     "name": "stdin",
     "output_type": "stream",
     "text": [
      "Name:  john\n",
      "Year of birth:  1995\n",
      "Age:  26\n"
     ]
    },
    {
     "name": "stdout",
     "output_type": "stream",
     "text": [
      "Password: 95joh676\n"
     ]
    }
   ],
   "source": [
    "# User inputs\n",
    "name = input(\"Name: \")\n",
    "year_of_birth = int(input(\"Year of birth: \"))\n",
    "age = int(input(\"Age: \"))\n",
    "\n",
    "# Take the last two digits of the year of birth\n",
    "year = str(year_of_birth)[-2:]\n",
    "\n",
    "# First 3 letters of the name\n",
    "name_part = name[:3]\n",
    "\n",
    "# The 2nd power of the age\n",
    "age_2nd_power = str(age ** 2)\n",
    "\n",
    "# Generate password\n",
    "password = year + name_part + age_2nd_power\n",
    "6\n",
    "# Print output correctly\n",
    "print(f\"Password: {password}\")"
   ]
  },
  {
   "cell_type": "markdown",
   "id": "08fc4db0-21a2-44ea-911d-b2346f206e8c",
   "metadata": {},
   "source": [
    "**03** Write a program that asks for two numbers. If both numbers are even, the program prints \"Both  are even.\" If only one of the numbers is even, the program prints \"One of the numbers is even.\". Finally, if neither of the numbers is even, the program prints \"Both numbers are odd\". "
   ]
  },
  {
   "cell_type": "code",
   "execution_count": 39,
   "id": "cb2f4f2f-814e-409f-83c8-40ba359c18ba",
   "metadata": {},
   "outputs": [
    {
     "name": "stdin",
     "output_type": "stream",
     "text": [
      "First number:  5\n",
      "Second number:  6\n"
     ]
    },
    {
     "name": "stdout",
     "output_type": "stream",
     "text": [
      "one of the number is even.\n"
     ]
    }
   ],
   "source": [
    "# user input\n",
    "number_1 = int(input(\"First number: \"))\n",
    "number_2 = int(input(\"Second number: \")) \n",
    "\n",
    "# check the condition \n",
    "if number_1 % 2 == 0 and number_2 % 2 == 0:\n",
    "    print(\"both numbers are even.\")\n",
    "elif number_1 % 2 == 0 or number_2 % 2 == 0:\n",
    "    print (\"one of the number is even.\")\n",
    "else: \n",
    "    print(\"Both numbers are odd\")"
   ]
  },
  {
   "cell_type": "markdown",
   "id": "c3d176ba-ba6c-448d-9a3a-5740bb6c3d6c",
   "metadata": {},
   "source": [
    "**04** Create a program, which asks the user for a number, and calculates the sum of all positive numbers from 0 to the user given input. If the user gives the number 4, the program calculates the sum 0+1+2+3, if 7, the calculation is 0+1+2+3+4+5+6.  "
   ]
  },
  {
   "cell_type": "code",
   "execution_count": 55,
   "id": "0b5e2b6c-75a5-4595-af38-912a4dd67cd1",
   "metadata": {},
   "outputs": [
    {
     "name": "stdin",
     "output_type": "stream",
     "text": [
      "Give an integer:  5\n"
     ]
    },
    {
     "name": "stdout",
     "output_type": "stream",
     "text": [
      "The sum was:  10\n"
     ]
    }
   ],
   "source": [
    "# user input\n",
    "num = int(input(\"Give an integer: \"))\n",
    "\n",
    "#sum of given number\n",
    "sum_of_number = sum(range(num))\n",
    "\n",
    "print(\"The sum was: \",sum_of_number)"
   ]
  },
  {
   "cell_type": "markdown",
   "id": "b7fa953e-d6a4-411c-a6ac-0384104bb562",
   "metadata": {},
   "source": [
    "**05** Create a program that can be used as a guessing game. The game is played by Dealer and Player. Dealer generates a random integer number between 0 and 10.Player has to guess it.The program should take input from Player as long as Player inputs same number as Dealer’s input was. Player gets advice to choose greater or smaller numbers in next choice. Finally, program has to also display the number of tries until the number is guessed.\n",
    "\n",
    "**As a bonus (2 points) you can extend your program to allow second play where another player can play and finally also display fi Player1 or Player2 wins,by comparing the numbers of tries and choosing the one with smaller number.**   "
   ]
  },
  {
   "cell_type": "code",
   "execution_count": 30,
   "id": "c087202a-930b-4a36-b388-8c6e4f84093d",
   "metadata": {},
   "outputs": [
    {
     "name": "stdout",
     "output_type": "stream",
     "text": [
      "Player 1.\n"
     ]
    },
    {
     "name": "stdin",
     "output_type": "stream",
     "text": [
      "Player 1:  8\n"
     ]
    },
    {
     "name": "stdout",
     "output_type": "stream",
     "text": [
      "Try a smaller number.\n"
     ]
    },
    {
     "name": "stdin",
     "output_type": "stream",
     "text": [
      "Player 1:  4\n"
     ]
    },
    {
     "name": "stdout",
     "output_type": "stream",
     "text": [
      "That’s right! Number of tries: 2\n",
      "\n",
      "Player 2.\n"
     ]
    },
    {
     "name": "stdin",
     "output_type": "stream",
     "text": [
      "Player 2:  3\n"
     ]
    },
    {
     "name": "stdout",
     "output_type": "stream",
     "text": [
      "Try a greater number.\n"
     ]
    },
    {
     "name": "stdin",
     "output_type": "stream",
     "text": [
      "Player 2:  6\n"
     ]
    },
    {
     "name": "stdout",
     "output_type": "stream",
     "text": [
      "Try a smaller number.\n"
     ]
    },
    {
     "name": "stdin",
     "output_type": "stream",
     "text": [
      "Player 2:  2\n"
     ]
    },
    {
     "name": "stdout",
     "output_type": "stream",
     "text": [
      "Try a greater number.\n"
     ]
    },
    {
     "name": "stdin",
     "output_type": "stream",
     "text": [
      "Player 2:  4\n"
     ]
    },
    {
     "name": "stdout",
     "output_type": "stream",
     "text": [
      "Try a greater number.\n"
     ]
    },
    {
     "name": "stdin",
     "output_type": "stream",
     "text": [
      "Player 2:  5\n"
     ]
    },
    {
     "name": "stdout",
     "output_type": "stream",
     "text": [
      "That’s right! Number of tries: 5\n",
      "\n",
      "Winner is Player 1\n"
     ]
    }
   ],
   "source": [
    "import random\n",
    "\n",
    "def game(player):\n",
    "    generator_number = random.randint(0, 10)\n",
    "    count = 0\n",
    "    while True:\n",
    "        guess_player = int(input(f\"{player}: \"))\n",
    "        count += 1\n",
    "        if guess_player < generator_number:\n",
    "            print(\"Try a greater number.\")\n",
    "        elif guess_player > generator_number:\n",
    "            print(\"Try a smaller number.\")\n",
    "        else:\n",
    "            print(f\"That’s right! Number of tries: {count}\")\n",
    "            break\n",
    "    return count\n",
    "\n",
    "# Game for player 1\n",
    "print(\"Player 1.\")\n",
    "player_1 = game(\"Player 1\")\n",
    "\n",
    "# Game for player 2\n",
    "print(\"\\nPlayer 2.\")\n",
    "player_2 = game(\"Player 2\")\n",
    "\n",
    "# Determine the winner\n",
    "if player_1 < player_2:\n",
    "    print(\"\\nWinner is Player 1\")\n",
    "elif player_2 < player_1:\n",
    "    print(\"\\nWinner is Player 2\")\n",
    "else:\n",
    "    print(\"\\nIt's a tie\")"
   ]
  },
  {
   "cell_type": "code",
   "execution_count": null,
   "id": "e7688ab1-7e1e-4e3e-9855-bfbb447efbc7",
   "metadata": {},
   "outputs": [],
   "source": []
  },
  {
   "cell_type": "code",
   "execution_count": null,
   "id": "9f711303-d722-418b-870c-4c430f89863f",
   "metadata": {},
   "outputs": [],
   "source": []
  }
 ],
 "metadata": {
  "kernelspec": {
   "display_name": "Python [conda env:base] *",
   "language": "python",
   "name": "conda-base-py"
  },
  "language_info": {
   "codemirror_mode": {
    "name": "ipython",
    "version": 3
   },
   "file_extension": ".py",
   "mimetype": "text/x-python",
   "name": "python",
   "nbconvert_exporter": "python",
   "pygments_lexer": "ipython3",
   "version": "3.12.7"
  }
 },
 "nbformat": 4,
 "nbformat_minor": 5
}
